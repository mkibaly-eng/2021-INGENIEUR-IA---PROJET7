{
  "cells": [
    {
      "cell_type": "markdown",
      "source": [
        "# 1. Récupération des données\n",
        "\n",
        "## a) Récupération des tweets postés par les clients "
      ],
      "metadata": {}
    },
    {
      "cell_type": "code",
      "source": [
        "import numpy as np\n",
        "import pandas as pd\n",
        "from pandas import DataFrame\n",
        "from matplotlib import pyplot as plt\n",
        "from sklearn.cluster import KMeans\n",
        "from sklearn import linear_model\n",
        "from sklearn import decomposition\n",
        "from sklearn import preprocessing\n",
        "from sklearn import kernel_ridge\n",
        "from sklearn import metrics\n",
        "from sklearn.preprocessing import LabelEncoder\n",
        "import seaborn as sns\n",
        "import warnings\n",
        "import csv\n",
        "warnings.filterwarnings('ignore')\n",
        "sns.set()\n",
        "\n",
        "missing_values = [\"na\", \"n/a\", \"--\", \" \"]\n",
        "data_df = pd.read_csv('tweet_100000.csv',\n",
        "                      encoding='latin',\n",
        "                      delimiter=\",\")\n"
      ],
      "outputs": [],
      "execution_count": 18,
      "metadata": {
        "gather": {
          "logged": 1626132668123
        },
        "jupyter": {
          "outputs_hidden": true
        }
      }
    },
    {
      "cell_type": "code",
      "source": [
        "data_df.head()"
      ],
      "outputs": [
        {
          "output_type": "execute_result",
          "execution_count": 19,
          "data": {
            "text/plain": "   sentiment          id                          date     query         user  \\\n0          0  2214557997  Wed Jun 17 16:54:53 PDT 2009  NO_QUERY  katierech21   \n1          0  2203600066  Wed Jun 17 00:06:07 PDT 2009  NO_QUERY  SomersetBob   \n2          0  2245264644  Fri Jun 19 15:53:21 PDT 2009  NO_QUERY    amhicks01   \n3          0  1992065737  Mon Jun 01 08:08:28 PDT 2009  NO_QUERY       zenjar   \n4          0  2258718810  Sat Jun 20 16:23:03 PDT 2009  NO_QUERY       rosoco   \n\n                                               tweet  \n0                             just ateeee. so tired   \n1  @Claire_Cordon Oh! That's odd. Mine's always b...  \n2  Lost my phone...This means I about to get some...  \n3  Why do I always feel tired, I sleep more than ...  \n4  thinkin bout goin to the improv tonite to go s...  ",
            "text/html": "<div>\n<style scoped>\n    .dataframe tbody tr th:only-of-type {\n        vertical-align: middle;\n    }\n\n    .dataframe tbody tr th {\n        vertical-align: top;\n    }\n\n    .dataframe thead th {\n        text-align: right;\n    }\n</style>\n<table border=\"1\" class=\"dataframe\">\n  <thead>\n    <tr style=\"text-align: right;\">\n      <th></th>\n      <th>sentiment</th>\n      <th>id</th>\n      <th>date</th>\n      <th>query</th>\n      <th>user</th>\n      <th>tweet</th>\n    </tr>\n  </thead>\n  <tbody>\n    <tr>\n      <th>0</th>\n      <td>0</td>\n      <td>2214557997</td>\n      <td>Wed Jun 17 16:54:53 PDT 2009</td>\n      <td>NO_QUERY</td>\n      <td>katierech21</td>\n      <td>just ateeee. so tired</td>\n    </tr>\n    <tr>\n      <th>1</th>\n      <td>0</td>\n      <td>2203600066</td>\n      <td>Wed Jun 17 00:06:07 PDT 2009</td>\n      <td>NO_QUERY</td>\n      <td>SomersetBob</td>\n      <td>@Claire_Cordon Oh! That's odd. Mine's always b...</td>\n    </tr>\n    <tr>\n      <th>2</th>\n      <td>0</td>\n      <td>2245264644</td>\n      <td>Fri Jun 19 15:53:21 PDT 2009</td>\n      <td>NO_QUERY</td>\n      <td>amhicks01</td>\n      <td>Lost my phone...This means I about to get some...</td>\n    </tr>\n    <tr>\n      <th>3</th>\n      <td>0</td>\n      <td>1992065737</td>\n      <td>Mon Jun 01 08:08:28 PDT 2009</td>\n      <td>NO_QUERY</td>\n      <td>zenjar</td>\n      <td>Why do I always feel tired, I sleep more than ...</td>\n    </tr>\n    <tr>\n      <th>4</th>\n      <td>0</td>\n      <td>2258718810</td>\n      <td>Sat Jun 20 16:23:03 PDT 2009</td>\n      <td>NO_QUERY</td>\n      <td>rosoco</td>\n      <td>thinkin bout goin to the improv tonite to go s...</td>\n    </tr>\n  </tbody>\n</table>\n</div>"
          },
          "metadata": {}
        }
      ],
      "execution_count": 19,
      "metadata": {
        "collapsed": true,
        "gather": {
          "logged": 1626132668326
        },
        "jupyter": {
          "outputs_hidden": false,
          "source_hidden": false
        },
        "nteract": {
          "transient": {
            "deleting": false
          }
        }
      }
    },
    {
      "cell_type": "code",
      "source": [
        "data_df['sentiment'].value_counts()"
      ],
      "outputs": [
        {
          "output_type": "execute_result",
          "execution_count": 20,
          "data": {
            "text/plain": "4    50000\n0    50000\nName: sentiment, dtype: int64"
          },
          "metadata": {}
        }
      ],
      "execution_count": 20,
      "metadata": {
        "gather": {
          "logged": 1626132669363
        }
      }
    },
    {
      "cell_type": "code",
      "source": [
        "data_df['sentiment'] = data_df['sentiment'].map({0:'negative',\n",
        "                                                 4:'positive'})"
      ],
      "outputs": [],
      "execution_count": 21,
      "metadata": {
        "collapsed": true,
        "gather": {
          "logged": 1626132671795
        },
        "jupyter": {
          "outputs_hidden": false,
          "source_hidden": false
        },
        "nteract": {
          "transient": {
            "deleting": false
          }
        }
      }
    },
    {
      "cell_type": "markdown",
      "source": [
        "* On sélectionne un échantillon de 500 tweets positifs et de 500 tweets négatifs : "
      ],
      "metadata": {
        "nteract": {
          "transient": {
            "deleting": false
          }
        }
      }
    },
    {
      "cell_type": "code",
      "source": [
        "data_df_pos = data_df[data_df[\"sentiment\"] == 'positive'].sample(500)\n",
        "data_df_neg = data_df[data_df[\"sentiment\"] == 'negative'].sample(500)\n",
        "data_df_new = data_df_pos.merge(data_df_neg, how='outer')"
      ],
      "outputs": [],
      "execution_count": 22,
      "metadata": {
        "collapsed": true,
        "gather": {
          "logged": 1626132677247
        },
        "jupyter": {
          "outputs_hidden": false,
          "source_hidden": false
        },
        "nteract": {
          "transient": {
            "deleting": false
          }
        }
      }
    },
    {
      "cell_type": "markdown",
      "source": [
        "## b) Affichage des colonnes et lignes, ansi que leurs nombres\n"
      ],
      "metadata": {}
    },
    {
      "cell_type": "code",
      "source": [
        "print('Nombre de restaurants dans le fichier   : ', data_df_new.shape[0])\n",
        "print('Nombre de colonnes du fichier           : ', data_df_new.shape[1])"
      ],
      "outputs": [
        {
          "output_type": "stream",
          "name": "stdout",
          "text": [
            "Nombre de restaurants dans le fichier   :  1000\n",
            "Nombre de colonnes du fichier           :  6\n"
          ]
        }
      ],
      "execution_count": 23,
      "metadata": {
        "gather": {
          "logged": 1626132678417
        }
      }
    },
    {
      "cell_type": "code",
      "source": [
        "nb_col_nan = data_df_new.isnull().sum()\n",
        "nb_col_nan"
      ],
      "outputs": [
        {
          "output_type": "execute_result",
          "execution_count": 24,
          "data": {
            "text/plain": "sentiment    0\nid           0\ndate         0\nquery        0\nuser         0\ntweet        0\ndtype: int64"
          },
          "metadata": {}
        }
      ],
      "execution_count": 24,
      "metadata": {
        "gather": {
          "logged": 1626132681073
        }
      }
    },
    {
      "cell_type": "markdown",
      "source": [
        "* Chargement des tweets dans une liste :"
      ],
      "metadata": {}
    },
    {
      "cell_type": "code",
      "source": [
        "tweets = []\n",
        "\n",
        "for i in data_df_new.index:\n",
        "    tweets.append(data_df_new[\"tweet\"][i].strip())\n"
      ],
      "outputs": [],
      "execution_count": 8,
      "metadata": {
        "gather": {
          "logged": 1626087704302
        }
      }
    },
    {
      "cell_type": "code",
      "source": [
        "tweets[0]"
      ],
      "outputs": [
        {
          "output_type": "execute_result",
          "execution_count": 9,
          "data": {
            "text/plain": "\"wow what a night! had a blast with my best friend Valentina last night in the concert! i'll put some pictures here later...\""
          },
          "metadata": {}
        }
      ],
      "execution_count": 9,
      "metadata": {
        "gather": {
          "logged": 1626087705550
        }
      }
    },
    {
      "cell_type": "markdown",
      "source": [
        "## b) Utilisation de l'API pour l'analyse de sentiment de Microsoft Azure\n",
        "\n",
        "> On envoie de requêtes au service cognitif Azure d'analyse du sentiment pour obtenir le sentiment positif ou négatif d'un tweet."
      ],
      "metadata": {}
    },
    {
      "cell_type": "code",
      "source": [
        "import os\n",
        "import requests\n",
        "import uuid\n",
        "import json\n",
        "from dotenv import load_dotenv\n",
        "load_dotenv()\n",
        "\n",
        "key1_var_name     = 'COGNITIVE_SERVICE_KEY'\n",
        "key2_var_name     = 'COGNITIVE_SERVICE_REGION'\n",
        "endpoint_var_name = 'ANALYTICS_TEXT_ENDPOINT'\n",
        "\n",
        "\n",
        "if not key1_var_name in os.environ:\n",
        "    raise Exception('Please set/export the environment variable 1: {}'.format(key1_var_name))\n",
        "subscription_key = os.environ[key1_var_name]\n",
        "\n",
        "if not key2_var_name in os.environ:\n",
        "    raise Exception('Please set/export the environment variable 2: {}'.format(key2_var_name))\n",
        "region_key = os.environ[key2_var_name]\n",
        "\n",
        "\n",
        "if not endpoint_var_name in os.environ:\n",
        "    raise Exception('Please set/export the environment variable 3: {}'.format(endpoint_var_name))\n",
        "endpoint = os.environ[endpoint_var_name]\n",
        "\n",
        "path = 'text/analytics/v3.0/sentiment'\n",
        "constructed_url = endpoint + path\n",
        "\n",
        "headers = {\n",
        "    'Ocp-Apim-Subscription-Key': subscription_key,\n",
        "    'Ocp-Apim-Subscription-Region': region_key,    \n",
        "    'Content-type': 'application/json',\n",
        "    'X-ClientTraceId': str(uuid.uuid4())\n",
        "}\n",
        "taux_success  = []\n",
        "    \n",
        "\n",
        "def detectLang(*param):\n",
        "    positive_succ     = 0\n",
        "    negative_succ     = 0\n",
        "    i = 0\n",
        "    for elt in param:\n",
        "        body = {\n",
        "                \"documents\": [\n",
        "                    {\n",
        "                      \"language\": \"en\",\n",
        "                      \"id\": i,\n",
        "                      \"text\": elt\n",
        "                    }\n",
        "                              ]\n",
        "                }\n",
        "        request  = requests.post(constructed_url, headers=headers, json=body)\n",
        "        response = request.json()\n",
        "        id = response['documents'][0]['id']\n",
        "        sentiment = response['documents'][0]['sentiment']\n",
        "        sc = response['documents'][0]['confidenceScores']\n",
        "        if i <= 5:\n",
        "            print(\"Le texte :'{}' a le sentiment : '{}'\\\n",
        "                  avec un score de : '{}'\".format(elt, sentiment, sc))\n",
        "        if sentiment == data_df_new[\"sentiment\"][i] and sentiment == 'negative':\n",
        "            negative_succ += 1\n",
        "        \n",
        "        if sentiment == data_df_new[\"sentiment\"][i] and sentiment == 'positive':\n",
        "            positive_succ += 1\n",
        "        i += 1\n",
        "    \n",
        "    tx_succ_neg = negative_succ / 500 * 100\n",
        "    tx_succ_pos = positive_succ / 500 * 100\n",
        "    taux_success.append(tx_succ_neg)\n",
        "    taux_success.append(tx_succ_pos)\n",
        "\n",
        "\n",
        "\n",
        "    \n",
        "        \n",
        "detectLang(*tweets)\n"
      ],
      "outputs": [
        {
          "output_type": "stream",
          "name": "stdout",
          "text": [
            "Le texte :'wow what a night! had a blast with my best friend Valentina last night in the concert! i'll put some pictures here later...' a le sentiment : 'positive'                  avec un score de : '{'positive': 1.0, 'neutral': 0.0, 'negative': 0.0}'\n",
            "Le texte :'@nipponcinema that looks pretty funny and interesting, lots of good actors too' a le sentiment : 'positive'                  avec un score de : '{'positive': 1.0, 'neutral': 0.0, 'negative': 0.0}'\n",
            "Le texte :'Damn shame! It sucks bein a woman...All kinds of pains (c) @Anesidora as she soaks her feet! &lt;--  I just smile...beauty is PAIN! FACT!' a le sentiment : 'mixed'                  avec un score de : '{'positive': 0.31, 'neutral': 0.0, 'negative': 0.69}'\n",
            "Le texte :'Morning Twitter' a le sentiment : 'neutral'                  avec un score de : '{'positive': 0.05, 'neutral': 0.93, 'negative': 0.02}'\n",
            "Le texte :'uploading pics from Graduation. Tomorrow, family cookout' a le sentiment : 'positive'                  avec un score de : '{'positive': 0.77, 'neutral': 0.2, 'negative': 0.03}'\n",
            "Le texte :'@sandsss Might be tweeting from my conference tomorrow in Barcelona. 'Reserved' a different handle just in case' a le sentiment : 'neutral'                  avec un score de : '{'positive': 0.06, 'neutral': 0.9, 'negative': 0.04}'\n"
          ]
        }
      ],
      "execution_count": 12,
      "metadata": {
        "gather": {
          "logged": 1626088338023
        }
      }
    },
    {
      "cell_type": "code",
      "source": [
        "print(taux_success)"
      ],
      "outputs": [
        {
          "output_type": "stream",
          "name": "stdout",
          "text": [
            "[46.0, 53.800000000000004]\n"
          ]
        }
      ],
      "execution_count": 13,
      "metadata": {
        "collapsed": true,
        "gather": {
          "logged": 1626088338196
        },
        "jupyter": {
          "outputs_hidden": false,
          "source_hidden": false
        },
        "nteract": {
          "transient": {
            "deleting": false
          }
        }
      }
    },
    {
      "cell_type": "code",
      "source": [
        "sent  = ['negative','positive']\n",
        "xs = [ i + 0.1 for i, _ in enumerate (sent)]\n",
        "\n",
        "plt.bar (xs,taux_success)\n",
        "plt.title (\"Taux de succès pour le sentiment négatif et positif des tweets\")\n",
        "plt.ylabel (\"Taux de succès\")\n",
        "plt.xlabel (\"Sentiment\")\n",
        "plt.xticks([ i + 0.1 for i, _ in enumerate (sent)],sent)\n",
        "plt.show() "
      ],
      "outputs": [
        {
          "output_type": "display_data",
          "data": {
            "text/plain": "<Figure size 432x288 with 1 Axes>",
            "image/png": "[encoded data removed]"
          },
          "metadata": {}
        }
      ],
      "execution_count": 14,
      "metadata": {
        "collapsed": true,
        "gather": {
          "logged": 1626088338341
        },
        "jupyter": {
          "outputs_hidden": false,
          "source_hidden": false
        },
        "nteract": {
          "transient": {
            "deleting": false
          }
        }
      }
    }
  ],
  "metadata": {
    "kernel_info": {
      "name": "python3"
    },
    "kernelspec": {
      "name": "python3",
      "language": "python",
      "display_name": "Python 3"
    },
    "language_info": {
      "name": "python",
      "version": "3.6.9",
      "mimetype": "text/x-python",
      "codemirror_mode": {
        "name": "ipython",
        "version": 3
      },
      "pygments_lexer": "ipython3",
      "nbconvert_exporter": "python",
      "file_extension": ".py"
    },
    "microsoft": {
      "host": {
        "AzureML": {
          "notebookHasBeenCompleted": true
        }
      }
    },
    "nteract": {
      "version": "nteract-front-end@1.0.0"
    }
  },
  "nbformat": 4,
  "nbformat_minor": 4
}